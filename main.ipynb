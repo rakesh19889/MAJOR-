{
 "cells": [
  {
   "cell_type": "code",
   "execution_count": 3,
   "metadata": {},
   "outputs": [
    {
     "data": {
      "text/plain": [
       "True"
      ]
     },
     "execution_count": 3,
     "metadata": {},
     "output_type": "execute_result"
    }
   ],
   "source": [
    "import streamlit as st\n",
    "import json\n",
    "import os\n",
    "import numpy as np\n",
    "from docx import Document\n",
    "# import pdfplumber\n",
    "# import matplotlib.colors as mcolors\n",
    "# from operator import index\n",
    "# import pandas as pd\n",
    "# import plotly.express as px\n",
    "# import plotly.graph_objects as go\n",
    "# import string\n",
    "from dotenv import load_dotenv\n",
    "# import docx\n",
    "# from PIL import Image\n",
    "from openai import OpenAI\n",
    "import base64\n",
    "\n",
    "load_dotenv()"
   ]
  },
  {
   "cell_type": "code",
   "execution_count": 4,
   "metadata": {},
   "outputs": [],
   "source": [
    "def get_travel_advisory(City, Type, Days, Purpose=None, Activities=None, Budget=None, Requirements=None):\n",
    "    try:\n",
    "        client = OpenAI(api_key=os.environ.get(\"OPENAI_API_KEY\"))\n",
    "        prompt = f\"You are a Travel Advisor, help me plan my trip to {City} for {Days} days. I want to go {Type}.\"\n",
    "        if Purpose:\n",
    "            prompt += f\" My trip is for {Purpose}.\"\n",
    "        if Activities:\n",
    "            prompt += f\" I'm interested in {Activities}.\"\n",
    "        if Budget:\n",
    "            prompt += f\" My budget is {Budget}.\"\n",
    "        if Requirements:\n",
    "            prompt += f\" I have the following requirements: {Requirements}.\"\n",
    "            \n",
    "        messages = [{\"role\": \"system\", \"content\": prompt}]\n",
    "        response = client.chat.completions.create(\n",
    "            messages=messages,\n",
    "            model=\"gpt-3.5-turbo-0125\",\n",
    "        )\n",
    "        return response.choices[0].message.content\n",
    "    except Exception as e:\n",
    "        print(f\"An error occurred: {e}\")\n",
    "        return None"
   ]
  },
  {
   "cell_type": "code",
   "execution_count": 2,
   "metadata": {},
   "outputs": [
    {
     "name": "stdout",
     "output_type": "stream",
     "text": [
      "Collecting python-dotenv\n",
      "  Downloading python_dotenv-1.0.1-py3-none-any.whl.metadata (23 kB)\n",
      "Downloading python_dotenv-1.0.1-py3-none-any.whl (19 kB)\n",
      "Installing collected packages: python-dotenv\n",
      "Successfully installed python-dotenv-1.0.1\n",
      "Note: you may need to restart the kernel to use updated packages.\n"
     ]
    }
   ],
   "source": [
    "%pip install python-dotenv\n",
    "\n"
   ]
  },
  {
   "cell_type": "code",
   "execution_count": 6,
   "metadata": {},
   "outputs": [
    {
     "data": {
      "text/plain": [
       "\"That's wonderful! Udaipur is a city rich in history and cultural heritage, making it an ideal destination for sightseeing enthusiasts. Here is a suggested itinerary for your 4-day trip to Udaipur:\\n\\n**Day 1: Arrival in Udaipur**\\n- Morning: Arrive in Udaipur and check into your hotel.\\n- Afternoon: Visit City Palace, a magnificent historic palace complex that offers stunning views of Lake Pichola.\\n- Evening: Enjoy a relaxing boat ride on Lake Pichola and admire the beautiful surroundings.\\n\\n**Day 2: Exploring Udaipur**\\n- Morning: Visit Jagdish Temple, an ancient Hindu temple dedicated to Lord Vishnu.\\n- Afternoon: Explore the Saheliyon-ki-Bari gardens, known for its beautiful fountains and lush greenery.\\n- Evening: Head to the Bagore Ki Haveli Museum for a cultural show featuring traditional Rajasthani music and dance performances.\\n\\n**Day 3: Day trip to Kumbhalgarh Fort**\\n- Morning: Take a day trip to Kumbhalgarh Fort, a historic hill fort located about 2.5 hours from Udaipur.\\n- Afternoon: Explore the massive fort complex, which is surrounded by a 36-kilometer long wall, the second-longest wall in the world after the Great Wall of China.\\n- Evening: Return to Udaipur and relax at your hotel.\\n\\n**Day 4: Departure**\\n- Morning: Visit the Monsoon Palace, also known as Sajjangarh Palace, for panoramic views of the city and surrounding countryside.\\n- Afternoon: Explore the local markets for souvenirs and handicrafts.\\n- Evening: Departure from Udaipur.\\n\\nRemember to wear comfortable clothing and footwear, carry a water bottle, and sunscreen while exploring Udaipur's historic sites. Enjoy your trip! Let me know if you need assistance with accommodation, transportation, or any other recommendations.\""
      ]
     },
     "execution_count": 6,
     "metadata": {},
     "output_type": "execute_result"
    }
   ],
   "source": [
    "get_travel_advisory('Udaipur','Historic' , 4, Purpose='Fun', Activities='SightSeeing', Budget=None, Requirements=None)"
   ]
  }
 ],
 "metadata": {
  "kernelspec": {
   "display_name": "Python 3",
   "language": "python",
   "name": "python3"
  },
  "language_info": {
   "codemirror_mode": {
    "name": "ipython",
    "version": 3
   },
   "file_extension": ".py",
   "mimetype": "text/x-python",
   "name": "python",
   "nbconvert_exporter": "python",
   "pygments_lexer": "ipython3",
   "version": "3.12.2"
  }
 },
 "nbformat": 4,
 "nbformat_minor": 2
}
